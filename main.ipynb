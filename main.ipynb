{
 "cells": [
  {
   "cell_type": "markdown",
   "metadata": {},
   "source": [
    "# Image Processing"
   ]
  },
  {
   "cell_type": "code",
   "execution_count": 16,
   "metadata": {},
   "outputs": [],
   "source": [
    "import cv2, os\n",
    "img = cv2.imread('board.jpg')\n",
    "#grayscale image\n",
    "gray = cv2.cvtColor(img, cv2.COLOR_BGR2GRAY)\n",
    "\n",
    "#setting the path for saving the images\n",
    "directory = '/home/saiprasadduduka/Projects/ChessCam/cropped/'\n",
    "\n",
    "#resizing the image\n",
    "size = 160\n",
    "gray = cv2.resize(gray, (size, size)) \n",
    "\n",
    "#calculating the size of each box\n",
    "box_size = int(size/8)\n",
    "\n",
    "#segragating each box image for classification\n",
    "for x in range(0, size, box_size):\n",
    "    for y in range(0, size, box_size):\n",
    "        crop = gray[x:x+box_size, y:y+box_size]\n",
    "        filename = directory + str(x)+'x'+str(y) + '.jpg'\n",
    "        if not os.path.exists(filename):\n",
    "            cv2.imwrite(filename, crop)"
   ]
  },
  {
   "cell_type": "markdown",
   "metadata": {},
   "source": [
    "# Training the model"
   ]
  },
  {
   "cell_type": "code",
   "execution_count": null,
   "metadata": {},
   "outputs": [],
   "source": []
  }
 ],
 "metadata": {
  "kernelspec": {
   "display_name": "Python 3",
   "language": "python",
   "name": "python3"
  },
  "language_info": {
   "codemirror_mode": {
    "name": "ipython",
    "version": 3
   },
   "file_extension": ".py",
   "mimetype": "text/x-python",
   "name": "python",
   "nbconvert_exporter": "python",
   "pygments_lexer": "ipython3",
   "version": "3.6.9"
  }
 },
 "nbformat": 4,
 "nbformat_minor": 2
}
