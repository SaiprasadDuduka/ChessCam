{
 "cells": [
  {
   "cell_type": "markdown",
   "metadata": {},
   "source": [
    "# Image Processing"
   ]
  },
  {
   "cell_type": "code",
   "execution_count": 24,
   "metadata": {},
   "outputs": [],
   "source": [
    "import cv2 as cv, os"
   ]
  },
  {
   "cell_type": "code",
   "execution_count": 25,
   "metadata": {},
   "outputs": [],
   "source": [
    "#order of pieces except pawn\n",
    "pieces = ['rook', 'knight', 'bishop', 'queen', 'king', 'bishop', 'knight', 'rook']\n",
    "\n",
    "#iterate over every chessboard\n",
    "for file in os.listdir('./Chessboards'):\n",
    "    \n",
    "    #extract chessboard image\n",
    "    img = cv.imread('./Chessboards/' + file)\n",
    "    \n",
    "    #grayscale image\n",
    "    gray = cv.cvtColor(img, cv.COLOR_BGR2GRAY)\n",
    "\n",
    "    #resizing the image\n",
    "    size = 160\n",
    "    gray = cv.resize(gray, (size, size)) \n",
    "\n",
    "    #calculating the size of each box\n",
    "    box_size = int(size/8)\n",
    "\n",
    "    #segragating each box image for classification\n",
    "    for x in range(0, 8):\n",
    "        for y in range(0, 8):\n",
    "            #destination of cropped image\n",
    "            directory = './cropped/'\n",
    "            if x==0:\n",
    "                directory = directory + 'b_' + pieces[y]\n",
    "            elif x==1:\n",
    "                directory = directory + 'b_pawn'\n",
    "            elif x==6:\n",
    "                directory = directory + 'w_pawn'\n",
    "            elif x==7:\n",
    "                directory = directory + 'w_' + pieces[y]\n",
    "            else:\n",
    "                directory = directory + 'empty'\n",
    "            directory = directory + '/'\n",
    "            \n",
    "            #extract a single cell from the board\n",
    "            crop = gray[x*box_size:x*box_size+box_size, y*box_size:y*box_size+box_size]\n",
    "            \n",
    "            #save the cell\n",
    "            filename = directory + file + '_' + str(x) + 'x' + str(y) + '.jpg'\n",
    "            if not os.path.exists(filename):\n",
    "                cv.imwrite(filename, crop)"
   ]
  },
  {
   "cell_type": "markdown",
   "metadata": {},
   "source": [
    "# Training the model"
   ]
  },
  {
   "cell_type": "code",
   "execution_count": null,
   "metadata": {},
   "outputs": [],
   "source": []
  }
 ],
 "metadata": {
  "kernelspec": {
   "display_name": "Python 3",
   "language": "python",
   "name": "python3"
  },
  "language_info": {
   "codemirror_mode": {
    "name": "ipython",
    "version": 3
   },
   "file_extension": ".py",
   "mimetype": "text/x-python",
   "name": "python",
   "nbconvert_exporter": "python",
   "pygments_lexer": "ipython3",
   "version": "3.7.6"
  }
 },
 "nbformat": 4,
 "nbformat_minor": 2
}
