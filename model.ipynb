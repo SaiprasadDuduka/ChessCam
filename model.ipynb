{
 "cells": [
  {
   "cell_type": "markdown",
   "metadata": {},
   "source": [
    "### Creating a CNN"
   ]
  },
  {
   "cell_type": "code",
   "execution_count": 42,
   "metadata": {},
   "outputs": [],
   "source": [
    "import tensorflow as tf\n",
    "from tensorflow.keras.models import Sequential\n",
    "from tensorflow.keras.layers import Dense, Dropout, Activation, Flatten, Conv2D, MaxPooling2D\n",
    "from tensorflow.keras.utils import to_categorical\n",
    "import pickle\n",
    "import numpy as np\n",
    "import matplotlib.pyplot as plt\n",
    "\n",
    "#for reference\n",
    "CATEGORIES = ['b_rook', 'b_knight', 'b_queen', 'w_king', 'b_king', 'w_queen', 'w_bishop', 'w_knight', 'b_bishop', 'w_rook', 'empty', 'b_pawn', 'w_pawn']"
   ]
  },
  {
   "cell_type": "code",
   "execution_count": 43,
   "metadata": {},
   "outputs": [],
   "source": [
    "X = pickle.load(open(\"X.pickle\", \"rb\"))\n",
    "y = pickle.load(open(\"y.pickle\", \"rb\"))\n",
    "\n",
    "y = to_categorical(y) # Since loss=\"categorical_crossentropy\" takes binary matrix as input rather than integers"
   ]
  },
  {
   "cell_type": "code",
   "execution_count": 44,
   "metadata": {
    "scrolled": true
   },
   "outputs": [
    {
     "name": "stdout",
     "output_type": "stream",
     "text": [
      "896\n",
      "896\n"
     ]
    }
   ],
   "source": [
    "print(len(X))\n",
    "print(len(y))"
   ]
  },
  {
   "cell_type": "code",
   "execution_count": 45,
   "metadata": {},
   "outputs": [],
   "source": [
    "model = Sequential()\n",
    "\n",
    "model.add(Conv2D(64, (3,3), input_shape = X.shape[1:]))\n",
    "model.add(Activation(\"relu\"))  # Rectified linear activation\n",
    "model.add(MaxPooling2D(pool_size=(2,2)))\n",
    "\n",
    "model.add(Conv2D(64, (3,3)))\n",
    "model.add(Activation(\"relu\"))  # Rectified linear activation\n",
    "model.add(MaxPooling2D(pool_size=(2,2)))\n",
    "\n",
    "model.add(Flatten())           #As DenseLayer requires 1-D data\n",
    "model.add(Dense(64))\n",
    "\n",
    "model.add(Dense(13))\n",
    "model.add(Activation(\"sigmoid\"))\n",
    "\n",
    "model.compile(loss=\"categorical_crossentropy\", optimizer=\"adam\", metrics=[\"accuracy\"])"
   ]
  },
  {
   "cell_type": "markdown",
   "metadata": {},
   "source": [
    "### Fitting the data"
   ]
  },
  {
   "cell_type": "code",
   "execution_count": 46,
   "metadata": {
    "scrolled": true
   },
   "outputs": [
    {
     "name": "stdout",
     "output_type": "stream",
     "text": [
      "Train on 806 samples, validate on 90 samples\n",
      "Epoch 1/10\n",
      "806/806 [==============================] - 1s 2ms/step - loss: 1.7118 - acc: 0.5050 - val_loss: 1.5281 - val_acc: 0.4778\n",
      "Epoch 2/10\n",
      "806/806 [==============================] - 1s 1ms/step - loss: 1.1580 - acc: 0.5906 - val_loss: 1.0902 - val_acc: 0.6556\n",
      "Epoch 3/10\n",
      "806/806 [==============================] - 1s 1ms/step - loss: 0.7133 - acc: 0.7630 - val_loss: 0.6111 - val_acc: 0.7889\n",
      "Epoch 4/10\n",
      "806/806 [==============================] - 1s 1ms/step - loss: 0.3904 - acc: 0.8797 - val_loss: 0.3711 - val_acc: 0.9111\n",
      "Epoch 5/10\n",
      "806/806 [==============================] - 1s 1ms/step - loss: 0.2615 - acc: 0.9194 - val_loss: 0.2834 - val_acc: 0.9000\n",
      "Epoch 6/10\n",
      "806/806 [==============================] - 1s 1ms/step - loss: 0.1534 - acc: 0.9578 - val_loss: 0.2183 - val_acc: 0.9333\n",
      "Epoch 7/10\n",
      "806/806 [==============================] - 1s 1ms/step - loss: 0.1193 - acc: 0.9640 - val_loss: 0.1362 - val_acc: 0.9556\n",
      "Epoch 8/10\n",
      "806/806 [==============================] - 1s 1ms/step - loss: 0.0748 - acc: 0.9864 - val_loss: 0.1612 - val_acc: 0.9444\n",
      "Epoch 9/10\n",
      "806/806 [==============================] - 1s 1ms/step - loss: 0.0721 - acc: 0.9814 - val_loss: 0.1851 - val_acc: 0.9444\n",
      "Epoch 10/10\n",
      "806/806 [==============================] - 1s 1ms/step - loss: 0.0731 - acc: 0.9814 - val_loss: 0.1158 - val_acc: 0.9556\n"
     ]
    },
    {
     "data": {
      "text/plain": [
       "<tensorflow.python.keras.callbacks.History at 0x7f293996b4e0>"
      ]
     },
     "execution_count": 46,
     "metadata": {},
     "output_type": "execute_result"
    }
   ],
   "source": [
    "model.fit(X, y, batch_size=8, epochs=10, validation_split=0.1)"
   ]
  },
  {
   "cell_type": "markdown",
   "metadata": {},
   "source": [
    "### Saving the model"
   ]
  },
  {
   "cell_type": "code",
   "execution_count": 47,
   "metadata": {},
   "outputs": [],
   "source": [
    "model.save(\"piece_classifier.model\")\n",
    "#to load the model - model = tf.keras.model.load_model(\"piece_classifier.model\")"
   ]
  },
  {
   "cell_type": "code",
   "execution_count": 48,
   "metadata": {},
   "outputs": [],
   "source": [
    "predictions = model.predict([X])"
   ]
  },
  {
   "cell_type": "code",
   "execution_count": 49,
   "metadata": {},
   "outputs": [
    {
     "name": "stdout",
     "output_type": "stream",
     "text": [
      "[[4.5096815e-13 1.9273053e-10 1.7020701e-11 ... 3.6202050e-09\n",
      "  6.1710752e-09 7.2533083e-01]\n",
      " [8.7164394e-11 7.9785805e-09 2.4085034e-11 ... 3.8457864e-07\n",
      "  1.8485377e-08 2.8465822e-04]\n",
      " [1.0616867e-04 7.4357152e-01 1.4533085e-04 ... 3.3665607e-08\n",
      "  1.4943247e-07 7.4200523e-07]\n",
      " ...\n",
      " [2.1327680e-09 1.4789851e-10 6.8747584e-11 ... 5.2637694e-10\n",
      "  9.4640978e-07 6.7030359e-04]\n",
      " [6.4086948e-05 5.8555179e-05 1.1379962e-05 ... 1.3521361e-01\n",
      "  6.1623787e-04 3.5891029e-05]\n",
      " [1.3525971e-08 1.6742562e-12 6.2037671e-12 ... 1.4717052e-14\n",
      "  4.8860695e-02 2.7118317e-06]]\n"
     ]
    }
   ],
   "source": [
    "print(predictions)"
   ]
  },
  {
   "cell_type": "code",
   "execution_count": 50,
   "metadata": {},
   "outputs": [
    {
     "name": "stdout",
     "output_type": "stream",
     "text": [
      "12\n"
     ]
    }
   ],
   "source": [
    "print(np.argmax(predictions[0]))"
   ]
  },
  {
   "cell_type": "code",
   "execution_count": 51,
   "metadata": {},
   "outputs": [
    {
     "data": {
      "image/png": "[encoded data removed]",
      "text/plain": [
       "<Figure size 432x288 with 1 Axes>"
      ]
     },
     "metadata": {
      "needs_background": "light"
     },
     "output_type": "display_data"
    }
   ],
   "source": [
    "x = np.squeeze(X)\n",
    "plt.imshow(x[0], cmap=\"gray\")\n",
    "plt.show() ##Correct !!!! refer CATEGORIES"
   ]
  },
  {
   "cell_type": "markdown",
   "metadata": {},
   "source": [
    "### Checking accuracy and loss on test data"
   ]
  },
  {
   "cell_type": "code",
   "execution_count": 52,
   "metadata": {},
   "outputs": [],
   "source": [
    "X_test = pickle.load(open(\"X_test.pickle\", \"rb\"))\n",
    "y_test = pickle.load(open(\"y_test.pickle\", \"rb\"))\n",
    "\n",
    "y_test = to_categorical(y_test)"
   ]
  },
  {
   "cell_type": "code",
   "execution_count": 53,
   "metadata": {},
   "outputs": [
    {
     "name": "stdout",
     "output_type": "stream",
     "text": [
      "448/448 [==============================] - 0s 314us/step\n",
      "0.6002550146409443 0.890625\n"
     ]
    }
   ],
   "source": [
    "val_loss, val_acc = model.evaluate(X_test, y_test)\n",
    "print(val_loss, val_acc)"
   ]
  },
  {
   "cell_type": "code",
   "execution_count": null,
   "metadata": {},
   "outputs": [],
   "source": []
  }
 ],
 "metadata": {
  "kernelspec": {
   "display_name": "Python 3",
   "language": "python",
   "name": "python3"
  },
  "language_info": {
   "codemirror_mode": {
    "name": "ipython",
    "version": 3
   },
   "file_extension": ".py",
   "mimetype": "text/x-python",
   "name": "python",
   "nbconvert_exporter": "python",
   "pygments_lexer": "ipython3",
   "version": "3.6.9"
  }
 },
 "nbformat": 4,
 "nbformat_minor": 2
}
