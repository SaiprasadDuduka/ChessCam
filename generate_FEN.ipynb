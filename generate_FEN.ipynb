{
 "cells": [
  {
   "cell_type": "code",
   "execution_count": 76,
   "metadata": {},
   "outputs": [],
   "source": [
    "import numpy as np\n",
    "import tensorflow as tf\n",
    "import cv2 as cv\n",
    "import matplotlib.pyplot as plt\n",
    "\n",
    "size = 160             #choosing the size of the image\n",
    "box_size = int(size/8) #size of each cell\n",
    "board = np.ones((8,8), dtype=\"U25\")\n",
    "CATEGORIES = ['b_rook', 'b_knight', 'b_queen', 'w_king', 'b_king', 'w_queen', 'w_bishop', 'w_knight', 'b_bishop', 'w_rook', 'empty', 'b_pawn', 'w_pawn']\n",
    "FENVAL = ['r', 'n', 'q', 'K', 'k', 'Q', 'B', 'N', 'b', 'R', '', 'p', 'P']"
   ]
  },
  {
   "cell_type": "markdown",
   "metadata": {},
   "source": [
    "### Generating board from image"
   ]
  },
  {
   "cell_type": "code",
   "execution_count": 77,
   "metadata": {},
   "outputs": [],
   "source": [
    "def create_board(img_path):\n",
    "    model = tf.keras.models.load_model(\"piece_classifier.model\")\n",
    "    gray = cv.imread(img_path, cv.IMREAD_GRAYSCALE)\n",
    "    gray = cv.resize(gray, (size,size))\n",
    "    \n",
    "    for x in range(8):\n",
    "        for y in range(8):\n",
    "            cropped = gray[x*box_size:(x+1)*box_size, y*box_size:(y+1)*box_size]\n",
    "            X = np.array(cropped).reshape(-1, box_size, box_size, 1)\n",
    "            X = X/255.0\n",
    "            pred = model.predict(X)\n",
    "            pos = np.argmax(pred)\n",
    "            #plt.imshow(cropped, cmap=\"gray\")\n",
    "            #plt.show()\n",
    "            #print(FENVAL[pos])\n",
    "            board[x][y] = FENVAL[pos]\n",
    "            \n",
    "    return"
   ]
  },
  {
   "cell_type": "code",
   "execution_count": 82,
   "metadata": {},
   "outputs": [],
   "source": [
    "create_board(\"./random_chess_positions/3.png\")     #random position\n",
    "#create_board(\"./Chessboards/light.png\")            #initial position"
   ]
  },
  {
   "cell_type": "code",
   "execution_count": 83,
   "metadata": {},
   "outputs": [
    {
     "name": "stdout",
     "output_type": "stream",
     "text": [
      "[['' '' '' 'r' 'r' '' '' '']\n",
      " ['' '' '' '' '' 'p' '' 'Q']\n",
      " ['' '' 'p' '' '' 'p' 'p' '']\n",
      " ['p' '' 'q' '' 'k' '' '' '']\n",
      " ['' '' '' '' 'P' '' 'B' '']\n",
      " ['' 'P' '' '' '' '' '' '']\n",
      " ['P' '' '' '' 'Q' '' '' '']\n",
      " ['' '' 'K' '' '' '' '' 'R']]\n"
     ]
    }
   ],
   "source": [
    "print(board)"
   ]
  },
  {
   "cell_type": "markdown",
   "metadata": {},
   "source": [
    "### Generating FEN String"
   ]
  },
  {
   "cell_type": "code",
   "execution_count": 84,
   "metadata": {},
   "outputs": [],
   "source": [
    "RANK_SEPARATOR = '/'\n",
    "\n",
    "def generate_FEN(board):\n",
    "    fen = \"\"\n",
    "    for rank in range(len(board)):\n",
    "        empty = 0\n",
    "        rankFen = \"\"\n",
    "        \n",
    "        for file in range(len(board[rank])):\n",
    "            if len(board[rank][file]) == 0 :\n",
    "                empty += 1\n",
    "            else:\n",
    "                if empty != 0:\n",
    "                    rankFen += str(empty)\n",
    "                    \n",
    "                rankFen += board[rank][file]\n",
    "                empty = 0\n",
    "        \n",
    "        \n",
    "        if empty != 0:\n",
    "            rankFen += str(empty)\n",
    "        \n",
    "        fen += rankFen\n",
    "        \n",
    "        if not (rank == len(board)-1):\n",
    "            fen += RANK_SEPARATOR\n",
    "        else:\n",
    "            fen += \" \";\n",
    "    \n",
    "    return fen"
   ]
  },
  {
   "cell_type": "code",
   "execution_count": 85,
   "metadata": {},
   "outputs": [
    {
     "name": "stdout",
     "output_type": "stream",
     "text": [
      "3rr3/5p1Q/2p2pp1/p1q1k3/4P1B1/1P6/P3Q3/2K4R \n"
     ]
    }
   ],
   "source": [
    "print(generate_FEN(board))"
   ]
  },
  {
   "cell_type": "code",
   "execution_count": null,
   "metadata": {},
   "outputs": [],
   "source": []
  }
 ],
 "metadata": {
  "kernelspec": {
   "display_name": "Python 3",
   "language": "python",
   "name": "python3"
  },
  "language_info": {
   "codemirror_mode": {
    "name": "ipython",
    "version": 3
   },
   "file_extension": ".py",
   "mimetype": "text/x-python",
   "name": "python",
   "nbconvert_exporter": "python",
   "pygments_lexer": "ipython3",
   "version": "3.6.9"
  }
 },
 "nbformat": 4,
 "nbformat_minor": 2
}
