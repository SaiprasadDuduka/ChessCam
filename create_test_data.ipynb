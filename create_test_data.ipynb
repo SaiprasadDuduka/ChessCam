{
 "cells": [
  {
   "cell_type": "markdown",
   "metadata": {},
   "source": [
    "### Extracting images of pieces from chessboards"
   ]
  },
  {
   "cell_type": "code",
   "execution_count": 3,
   "metadata": {},
   "outputs": [],
   "source": [
    "import cv2 as cv\n",
    "import os\n",
    "import numpy as np\n",
    "import matplotlib.pyplot as plt\n",
    "import random\n",
    "import pickle\n",
    "\n",
    "size = 160             #choosing the size of the image\n",
    "box_size = int(size/8) #size of each cell"
   ]
  },
  {
   "cell_type": "code",
   "execution_count": 4,
   "metadata": {},
   "outputs": [],
   "source": [
    "#order of pieces except pawn\n",
    "pieces = ['rook', 'knight', 'bishop', 'queen', 'king', 'bishop', 'knight', 'rook']\n",
    " \n",
    "#iterate over every chessboard\n",
    "for file in os.listdir('./test_boards'):\n",
    "    \n",
    "    img = cv.imread('./test_boards/' + file)       #extract chessboard image\n",
    "    gray = cv.cvtColor(img, cv.COLOR_BGR2GRAY)     #grayscale image\n",
    "    gray = cv.resize(gray, (size, size))           #resizing the image\n",
    "\n",
    "    #segragating each box image for classification\n",
    "    for x in range(0, 8):\n",
    "        for y in range(0, 8):\n",
    "            #destination of cropped image\n",
    "            directory = './test_cropped/'\n",
    "            if x==0:\n",
    "                directory = directory + 'b_' + pieces[y]\n",
    "            elif x==1:\n",
    "                directory = directory + 'b_pawn'\n",
    "            elif x==6:\n",
    "                directory = directory + 'w_pawn'\n",
    "            elif x==7:\n",
    "                directory = directory + 'w_' + pieces[y]\n",
    "            else:\n",
    "                directory = directory + 'empty'\n",
    "            directory = directory + '/'\n",
    "            \n",
    "            #extract a single cell from the board\n",
    "            crop = gray[x*box_size:x*box_size+box_size, y*box_size:y*box_size+box_size]\n",
    "            \n",
    "            #save the cell\n",
    "            filename = directory + file + '_' + str(x) + 'x' + str(y) + '.jpg'\n",
    "            if not os.path.exists(filename):\n",
    "                cv.imwrite(filename, crop)"
   ]
  },
  {
   "cell_type": "markdown",
   "metadata": {},
   "source": [
    "### Creating the test data"
   ]
  },
  {
   "cell_type": "code",
   "execution_count": 6,
   "metadata": {},
   "outputs": [],
   "source": [
    "DATADIR = \"./test_cropped\"\n",
    "CATEGORIES = ['b_rook', 'b_knight', 'b_queen', 'w_king', 'b_king', 'w_queen', 'w_bishop', 'w_knight', 'b_bishop', 'w_rook', 'empty', 'b_pawn', 'w_pawn']\n",
    "\n",
    "test_data = []\n",
    "\n",
    "def create_test_data():\n",
    "    for category in CATEGORIES:\n",
    "        path = os.path.join(DATADIR, category)\n",
    "        class_num = CATEGORIES.index(category)\n",
    "        for img in os.listdir(path):\n",
    "            img_array = cv.imread(os.path.join(path,img), cv.IMREAD_GRAYSCALE)\n",
    "            test_data.append([img_array, class_num])\n",
    "            \n",
    "create_test_data()        #create training data\n",
    "random.shuffle(test_data) #shuffling data to improve accuracy\n"
   ]
  },
  {
   "cell_type": "code",
   "execution_count": 8,
   "metadata": {},
   "outputs": [
    {
     "name": "stdout",
     "output_type": "stream",
     "text": [
      "448\n"
     ]
    }
   ],
   "source": [
    "print(len(test_data))"
   ]
  },
  {
   "cell_type": "code",
   "execution_count": 10,
   "metadata": {},
   "outputs": [],
   "source": [
    "X_test = []\n",
    "y_test = []\n",
    "\n",
    "for features, label in test_data:\n",
    "    X_test.append(features)\n",
    "    y_test.append(label)\n",
    "\n",
    "#Converting the list X to numpy array as we cannot feed a list to neural network\n",
    "X_test = np.array(X_test).reshape(-1, box_size, box_size, 1)\n",
    "X_test = X_test/255.0"
   ]
  },
  {
   "cell_type": "markdown",
   "metadata": {},
   "source": [
    "### Storing data in pickle"
   ]
  },
  {
   "cell_type": "code",
   "execution_count": 11,
   "metadata": {},
   "outputs": [],
   "source": [
    "pickle_out = open(\"X_test.pickle\", \"wb\")\n",
    "pickle.dump(X_test, pickle_out)\n",
    "pickle_out.close()\n",
    "\n",
    "pickle_out = open(\"y_test.pickle\", \"wb\")\n",
    "pickle.dump(y_test, pickle_out)\n",
    "pickle_out.close()"
   ]
  },
  {
   "cell_type": "code",
   "execution_count": null,
   "metadata": {},
   "outputs": [],
   "source": []
  }
 ],
 "metadata": {
  "kernelspec": {
   "display_name": "Python 3",
   "language": "python",
   "name": "python3"
  },
  "language_info": {
   "codemirror_mode": {
    "name": "ipython",
    "version": 3
   },
   "file_extension": ".py",
   "mimetype": "text/x-python",
   "name": "python",
   "nbconvert_exporter": "python",
   "pygments_lexer": "ipython3",
   "version": "3.6.9"
  }
 },
 "nbformat": 4,
 "nbformat_minor": 2
}
