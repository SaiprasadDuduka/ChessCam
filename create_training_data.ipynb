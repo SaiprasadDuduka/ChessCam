{
 "cells": [
  {
   "cell_type": "markdown",
   "metadata": {},
   "source": [
    "### Extracting images of pieces from chessboards"
   ]
  },
  {
   "cell_type": "code",
   "execution_count": 41,
   "metadata": {},
   "outputs": [],
   "source": [
    "import cv2 as cv\n",
    "import os\n",
    "import numpy as np\n",
    "import matplotlib.pyplot as plt\n",
    "import random\n",
    "import pickle\n",
    "\n",
    "size = 160             #choosing the size of the image\n",
    "box_size = int(size/8) #size of each cell"
   ]
  },
  {
   "cell_type": "code",
   "execution_count": 42,
   "metadata": {},
   "outputs": [],
   "source": [
    "#order of pieces except pawn\n",
    "pieces = ['rook', 'knight', 'bishop', 'queen', 'king', 'bishop', 'knight', 'rook']\n",
    " \n",
    "#iterate over every chessboard\n",
    "for file in os.listdir('./Chessboards'):\n",
    "    \n",
    "    img = cv.imread('./Chessboards/' + file)       #extract chessboard image\n",
    "    gray = cv.cvtColor(img, cv.COLOR_BGR2GRAY)     #grayscale image\n",
    "    gray = cv.resize(gray, (size, size))           #resizing the image\n",
    "\n",
    "    #segragating each box image for classification\n",
    "    for x in range(0, 8):\n",
    "        for y in range(0, 8):\n",
    "            #destination of cropped image\n",
    "            directory = './cropped/'\n",
    "            if x==0:\n",
    "                directory = directory + 'b_' + pieces[y]\n",
    "            elif x==1:\n",
    "                directory = directory + 'b_pawn'\n",
    "            elif x==6:\n",
    "                directory = directory + 'w_pawn'\n",
    "            elif x==7:\n",
    "                directory = directory + 'w_' + pieces[y]\n",
    "            else:\n",
    "                directory = directory + 'empty'\n",
    "            directory = directory + '/'\n",
    "            \n",
    "            #extract a single cell from the board\n",
    "            crop = gray[x*box_size:x*box_size+box_size, y*box_size:y*box_size+box_size]\n",
    "            \n",
    "            #save the cell\n",
    "            filename = directory + file + '_' + str(x) + 'x' + str(y) + '.jpg'\n",
    "            if not os.path.exists(filename):\n",
    "                cv.imwrite(filename, crop)"
   ]
  },
  {
   "cell_type": "markdown",
   "metadata": {},
   "source": [
    "### Creating the training data"
   ]
  },
  {
   "cell_type": "code",
   "execution_count": 43,
   "metadata": {},
   "outputs": [],
   "source": [
    "DATADIR = \"./cropped\"\n",
    "CATEGORIES = ['b_rook', 'b_knight', 'b_queen', 'w_king', 'b_king', 'w_queen', 'w_bishop', 'w_knight', 'b_bishop', 'w_rook', 'empty', 'b_pawn', 'w_pawn']\n",
    "\n",
    "training_data = []\n",
    "\n",
    "def create_training_data():\n",
    "    for category in CATEGORIES:\n",
    "        path = os.path.join(DATADIR, category)\n",
    "        class_num = CATEGORIES.index(category)\n",
    "        for img in os.listdir(path):\n",
    "            img_array = cv.imread(os.path.join(path,img), cv.IMREAD_GRAYSCALE)\n",
    "            training_data.append([img_array, class_num])\n",
    "            \n",
    "create_training_data()        #create training data\n",
    "random.shuffle(training_data) #shuffling data to improve accuracy\n"
   ]
  },
  {
   "cell_type": "code",
   "execution_count": 44,
   "metadata": {},
   "outputs": [
    {
     "name": "stdout",
     "output_type": "stream",
     "text": [
      "896\n"
     ]
    }
   ],
   "source": [
    "print(len(training_data))"
   ]
  },
  {
   "cell_type": "code",
   "execution_count": 47,
   "metadata": {},
   "outputs": [],
   "source": [
    "X = []\n",
    "y = []\n",
    "\n",
    "for features, label in training_data:\n",
    "    X.append(features)\n",
    "    y.append(label)\n",
    "\n",
    "#Converting the list X to numpy array as we cannot feed a list to neural network\n",
    "X = np.array(X).reshape(-1, box_size, box_size, 1)\n",
    "X = X/255.0"
   ]
  },
  {
   "cell_type": "markdown",
   "metadata": {},
   "source": [
    "### Storing data in pickle"
   ]
  },
  {
   "cell_type": "code",
   "execution_count": 48,
   "metadata": {},
   "outputs": [],
   "source": [
    "pickle_out = open(\"X.pickle\", \"wb\")\n",
    "pickle.dump(X, pickle_out)\n",
    "pickle_out.close()\n",
    "\n",
    "pickle_out = open(\"y.pickle\", \"wb\")\n",
    "pickle.dump(y, pickle_out)\n",
    "pickle_out.close()"
   ]
  },
  {
   "cell_type": "code",
   "execution_count": null,
   "metadata": {},
   "outputs": [],
   "source": []
  }
 ],
 "metadata": {
  "kernelspec": {
   "display_name": "Python 3",
   "language": "python",
   "name": "python3"
  },
  "language_info": {
   "codemirror_mode": {
    "name": "ipython",
    "version": 3
   },
   "file_extension": ".py",
   "mimetype": "text/x-python",
   "name": "python",
   "nbconvert_exporter": "python",
   "pygments_lexer": "ipython3",
   "version": "3.6.9"
  }
 },
 "nbformat": 4,
 "nbformat_minor": 2
}
